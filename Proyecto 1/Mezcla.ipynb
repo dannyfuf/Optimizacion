{
 "cells": [
  {
   "cell_type": "markdown",
   "metadata": {},
   "source": [
    "# Install and Imports"
   ]
  },
  {
   "cell_type": "code",
   "execution_count": 1,
   "metadata": {
    "tags": []
   },
   "outputs": [
    {
     "name": "stdout",
     "output_type": "stream",
     "text": [
      "Requirement already satisfied: ortools in /opt/conda/lib/python3.8/site-packages (9.1.9490)\n",
      "Requirement already satisfied: protobuf>=3.18.0 in /opt/conda/lib/python3.8/site-packages (from ortools) (3.18.1)\n",
      "Requirement already satisfied: absl-py>=0.13 in /opt/conda/lib/python3.8/site-packages (from ortools) (0.14.1)\n",
      "Requirement already satisfied: six in /opt/conda/lib/python3.8/site-packages (from absl-py>=0.13->ortools) (1.15.0)\n"
     ]
    }
   ],
   "source": [
    "!pip install ortools"
   ]
  },
  {
   "cell_type": "code",
   "execution_count": 4,
   "metadata": {},
   "outputs": [],
   "source": [
    "from random import randint, uniform\n",
    "from ortools.linear_solver import pywraplp\n",
    "from ortools.init import pywrapinit\n",
    "import numpy as np\n",
    "from time import time"
   ]
  },
  {
   "cell_type": "markdown",
   "metadata": {
    "tags": []
   },
   "source": [
    "# Data Generation"
   ]
  },
  {
   "cell_type": "code",
   "execution_count": 7,
   "metadata": {},
   "outputs": [],
   "source": [
    "def generate_tech_matrix(cant_variables, cant_disponibilidad, min_requerimientos = 0.0, max_requerimientos = 1.0, rand_type = 'float'):\n",
    "    matrix = []\n",
    "    for i in range(cant_variables):\n",
    "        if rand_type == 'float':\n",
    "            req = [ round(uniform(min_requerimientos, max_requerimientos), 2) for _ in range(cant_disponibilidad) ]\n",
    "        else:\n",
    "            req = [ randint(min_requerimientos, max_requerimientos) for _ in range(cant_disponibilidad) ]\n",
    "            \n",
    "        matrix.append(np.array(req))\n",
    "    return np.array(matrix)"
   ]
  },
  {
   "cell_type": "code",
   "execution_count": 4,
   "metadata": {},
   "outputs": [],
   "source": [
    "cant_variables = 5\n",
    "\n",
    "min_utilidad = 10000\n",
    "max_utilidad = 20000"
   ]
  },
  {
   "cell_type": "code",
   "execution_count": 5,
   "metadata": {},
   "outputs": [
    {
     "data": {
      "text/plain": [
       "array([10045, 10124, 19716, 13007, 10520])"
      ]
     },
     "execution_count": 5,
     "metadata": {},
     "output_type": "execute_result"
    }
   ],
   "source": [
    "utilidades = np.array([randint(min_utilidad, max_utilidad) for _ in range(cant_variables)])\n",
    "utilidades"
   ]
  },
  {
   "cell_type": "code",
   "execution_count": 6,
   "metadata": {},
   "outputs": [],
   "source": [
    "cant_disponibilidad = 5\n",
    "\n",
    "min_disponibilidad = 100\n",
    "max_disponibilidad = 500"
   ]
  },
  {
   "cell_type": "code",
   "execution_count": 7,
   "metadata": {},
   "outputs": [
    {
     "data": {
      "text/plain": [
       "array([415, 387, 420, 413, 267])"
      ]
     },
     "execution_count": 7,
     "metadata": {},
     "output_type": "execute_result"
    }
   ],
   "source": [
    "disponibilidades = np.array([randint(min_disponibilidad, max_disponibilidad) for _ in range(cant_disponibilidad)])\n",
    "disponibilidades"
   ]
  },
  {
   "cell_type": "code",
   "execution_count": 8,
   "metadata": {},
   "outputs": [],
   "source": [
    "min_requerimientos = 0.0\n",
    "max_requerimientos = 1.0"
   ]
  },
  {
   "cell_type": "code",
   "execution_count": 9,
   "metadata": {},
   "outputs": [
    {
     "data": {
      "text/plain": [
       "array([[0.37, 0.55, 0.84, 0.02, 0.62],\n",
       "       [0.75, 0.26, 0.38, 0.8 , 0.4 ],\n",
       "       [0.27, 0.85, 0.09, 0.61, 0.07],\n",
       "       [0.4 , 0.52, 0.69, 0.59, 0.4 ],\n",
       "       [0.51, 0.43, 0.07, 0.14, 0.29]])"
      ]
     },
     "execution_count": 9,
     "metadata": {},
     "output_type": "execute_result"
    }
   ],
   "source": [
    "tech_matrix = generate_tech_matrix(cant_variables, cant_disponibilidad)\n",
    "tech_matrix"
   ]
  },
  {
   "cell_type": "markdown",
   "metadata": {},
   "source": [
    "# Solve"
   ]
  },
  {
   "cell_type": "code",
   "execution_count": 10,
   "metadata": {},
   "outputs": [],
   "source": [
    "# solver initialization\n",
    "solver = pywraplp.Solver.CreateSolver('GLOP')\n",
    "inf = solver.infinity()"
   ]
  },
  {
   "cell_type": "code",
   "execution_count": 11,
   "metadata": {},
   "outputs": [
    {
     "name": "stdout",
     "output_type": "stream",
     "text": [
      "Number Variables: 5\n"
     ]
    }
   ],
   "source": [
    "#Definición de las variables de decisión\n",
    "#Variables\n",
    "x = {}\n",
    "for i in range(cant_variables):\n",
    "    x[i] = solver.IntVar(0, inf, f'x{i}')\n",
    "print(f'Number Variables: {solver.NumVariables()}')"
   ]
  },
  {
   "cell_type": "code",
   "execution_count": 12,
   "metadata": {},
   "outputs": [
    {
     "name": "stdout",
     "output_type": "stream",
     "text": [
      "Number of constraints: 5\n"
     ]
    }
   ],
   "source": [
    "#Constraints\n",
    "for i in range(cant_disponibilidad):\n",
    "    cons = solver.Sum(tech_matrix[j][i] * x[j] for j in range(cant_variables))\n",
    "    solver.Add(cons <= disponibilidades[i] )\n",
    "print(f'Number of constraints: {solver.NumConstraints()}')"
   ]
  },
  {
   "cell_type": "code",
   "execution_count": 13,
   "metadata": {},
   "outputs": [],
   "source": [
    "# Objective Function\n",
    "z = solver.Sum(utilidades[i]*x[i] for i in range(cant_variables))\n",
    "solver.Maximize(z)"
   ]
  },
  {
   "cell_type": "code",
   "execution_count": 1,
   "metadata": {},
   "outputs": [
    {
     "ename": "NameError",
     "evalue": "name 'solver' is not defined",
     "output_type": "error",
     "traceback": [
      "\u001b[0;31m---------------------------------------------------------------------------\u001b[0m",
      "\u001b[0;31mNameError\u001b[0m                                 Traceback (most recent call last)",
      "\u001b[0;32m<timed exec>\u001b[0m in \u001b[0;36m<module>\u001b[0;34m\u001b[0m\n",
      "\u001b[0;31mNameError\u001b[0m: name 'solver' is not defined"
     ]
    }
   ],
   "source": [
    "%%time\n",
    "# solve\n",
    "status = solver.Solve()\n",
    "\n",
    "# check result\n",
    "if status == pywraplp.Solver.OPTIMAL:\n",
    "    print(solver.Objective().Value())\n",
    "    for  i in range(cant_variables):\n",
    "        print(f'x{i}: {x[i].solution_value()}')\n",
    "else:\n",
    "    print('No se puede')\n",
    "print('\\n')"
   ]
  },
  {
   "cell_type": "markdown",
   "metadata": {},
   "source": [
    "# Complete Model"
   ]
  },
  {
   "cell_type": "code",
   "execution_count": 8,
   "metadata": {},
   "outputs": [],
   "source": [
    "# este codigo utiliza es exactamente lo mismo que en las secciones anteriores\n",
    "# solo que se ejecuta todo de una sola vez y recibe los parametros necesarios \n",
    "# mencionados en el video de mezcla\n",
    "\n",
    "def mezcla(\n",
    "    cant_variables = 5, # cantidad de variables de decision\n",
    "    min_utilidad = 10000, # valor minimo de la utilidad\n",
    "    max_utilidad = 20000, # valor maximo de la utilidad\n",
    "    cant_disponibilidad = 5, # cantidad de elementos que restringen la disponibilidad. columnas en la matriz tecnológica.\n",
    "    min_disponibilidad = 100, # valor minimo de la disponibilidad\n",
    "    max_disponibilidad = 500, # valor maximo de la disponibilidad\n",
    "    min_requerimientos = 0.0, # valor minimo que se considerará al crear la matriz tecnológica\n",
    "    max_requerimientos = 1.0, # valor maximo que se considerará al crear la matriz tecnológica\n",
    "    get_all_data = False, # si es falso, solamente retorna si es factible o no el problema, el valor optimo y los valores de las variables.\n",
    "                            # si es verdadero, retorna el tiempo usado, la matriz de utilidad, la matriz de disponibilidad y la matriz tecnológica\n",
    "    rand_type = 'float' # determina si los valores de la matriz tecnológica son ints o floats\n",
    "):\n",
    "    \n",
    "    \n",
    "    #gen data\n",
    "    utilidades = np.array([randint(min_utilidad, max_utilidad) for _ in range(cant_variables)])\n",
    "    disponibilidades = np.array([randint(min_disponibilidad, max_disponibilidad) for _ in range(cant_disponibilidad)])\n",
    "    tech_matrix = generate_tech_matrix(cant_variables, cant_disponibilidad, rand_type = rand_type)\n",
    "    \n",
    "    #solve\n",
    "    solver = pywraplp.Solver.CreateSolver('GLOP')\n",
    "    inf = solver.infinity()\n",
    "    x = {}\n",
    "    for i in range(cant_variables):\n",
    "        x[i] = solver.IntVar(0, inf, f'x{i}')\n",
    "        \n",
    "    for i in range(cant_disponibilidad):\n",
    "        cons = solver.Sum(tech_matrix[j][i] * x[j] for j in range(cant_variables))\n",
    "        solver.Add(cons <= disponibilidades[i] )\n",
    "    z = solver.Sum(utilidades[i]*x[i] for i in range(cant_variables))\n",
    "    solver.Maximize(z)\n",
    "    \n",
    "    t_init = time()\n",
    "    status = solver.Solve()\n",
    "    t_end = time()\n",
    "    \n",
    "    # check result\n",
    "    result = {}\n",
    "    if status == pywraplp.Solver.OPTIMAL:\n",
    "        result['status'] = 'factible'\n",
    "        result['value'] = solver.Objective().Value()\n",
    "        result['variable_values()'] = [x[i].solution_value() for i in range(cant_variables)]\n",
    "        if get_all_data:\n",
    "            result['time'] = t_end - t_init\n",
    "            result['utilidades'] = utilidades\n",
    "            result['disponibilidades'] = disponibilidades\n",
    "            result['tech_matrix'] = tech_matrix\n",
    "    else:\n",
    "        result['status'] = 'infactible'\n",
    "    \n",
    "    return result"
   ]
  },
  {
   "cell_type": "code",
   "execution_count": 9,
   "metadata": {},
   "outputs": [
    {
     "data": {
      "text/plain": [
       "{'status': 'factible',\n",
       " 'value': 1785180.8823529412,\n",
       " 'variable_values()': [4.411764705882353,\n",
       "  0.0,\n",
       "  0.0,\n",
       "  0.0,\n",
       "  0.0,\n",
       "  0.0,\n",
       "  5.147058823529412,\n",
       "  0.0,\n",
       "  0.0,\n",
       "  0.0],\n",
       " 'time': 0.03698539733886719,\n",
       " 'utilidades': array([190182, 157242, 124017, 132115, 187303, 195014, 183822, 174854,\n",
       "        185704, 107581]),\n",
       " 'disponibilidades': array([7, 3, 4]),\n",
       " 'tech_matrix': array([[0.47, 0.68, 0.02],\n",
       "        [0.13, 0.27, 0.96],\n",
       "        [0.53, 0.28, 0.72],\n",
       "        [0.73, 0.44, 0.33],\n",
       "        [0.51, 0.79, 0.34],\n",
       "        [0.86, 0.81, 0.58],\n",
       "        [0.73, 0.  , 0.76],\n",
       "        [0.12, 0.33, 0.92],\n",
       "        [0.54, 0.46, 0.98],\n",
       "        [0.67, 0.87, 0.66]])}"
      ]
     },
     "execution_count": 9,
     "metadata": {},
     "output_type": "execute_result"
    }
   ],
   "source": [
    "mezcla(\n",
    "    cant_variables = 10,\n",
    "    min_utilidad = 100000,\n",
    "    max_utilidad = 200000,\n",
    "    cant_disponibilidad = 3,\n",
    "    min_disponibilidad = 3,\n",
    "    max_disponibilidad = 11,\n",
    "    min_requerimientos = 0,\n",
    "    max_requerimientos = 2,\n",
    "    get_all_data = True,\n",
    "    rand_type = 'float'\n",
    ")"
   ]
  },
  {
   "cell_type": "code",
   "execution_count": null,
   "metadata": {},
   "outputs": [],
   "source": []
  }
 ],
 "metadata": {
  "kernelspec": {
   "display_name": "Python 3",
   "language": "python",
   "name": "python3"
  },
  "language_info": {
   "codemirror_mode": {
    "name": "ipython",
    "version": 3
   },
   "file_extension": ".py",
   "mimetype": "text/x-python",
   "name": "python",
   "nbconvert_exporter": "python",
   "pygments_lexer": "ipython3",
   "version": "3.8.6"
  }
 },
 "nbformat": 4,
 "nbformat_minor": 4
}
